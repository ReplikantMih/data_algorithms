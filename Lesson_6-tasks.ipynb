{
 "cells": [
  {
   "cell_type": "markdown",
   "metadata": {
    "colab_type": "text",
    "id": "1sG8r2RPbshw"
   },
   "source": [
    "Реализация деревьев решений была дважды продемонстрирована в предыдущих уроках, в этом не будем ее повторять и возьмем готовую реализацию дерева решений для регрессии из библиотеки `sklearn`."
   ]
  },
  {
   "cell_type": "code",
   "execution_count": 1,
   "metadata": {
    "colab": {},
    "colab_type": "code",
    "id": "Qk-74OFhbshx"
   },
   "outputs": [],
   "source": [
    "from sklearn.tree import DecisionTreeRegressor\n",
    "\n",
    "from sklearn import model_selection\n",
    "import numpy as np"
   ]
  },
  {
   "cell_type": "markdown",
   "metadata": {
    "colab_type": "text",
    "id": "LYD1kLOibsh0"
   },
   "source": [
    "Используем один из \"игрушечных\" датасетов из той же библиотеки."
   ]
  },
  {
   "cell_type": "code",
   "execution_count": 2,
   "metadata": {
    "colab": {},
    "colab_type": "code",
    "id": "eDZbSvqMbsh1"
   },
   "outputs": [],
   "source": [
    "from sklearn.datasets import load_diabetes"
   ]
  },
  {
   "cell_type": "code",
   "execution_count": 3,
   "metadata": {
    "colab": {},
    "colab_type": "code",
    "id": "leu8bBI7bsh6"
   },
   "outputs": [],
   "source": [
    "X, y = load_diabetes(return_X_y=True)"
   ]
  },
  {
   "cell_type": "markdown",
   "metadata": {
    "colab_type": "text",
    "id": "cz_JhiIpbsh8"
   },
   "source": [
    "Разделим выборку на обучающую и тестовую в соотношении 75/25."
   ]
  },
  {
   "cell_type": "code",
   "execution_count": 4,
   "metadata": {
    "colab": {},
    "colab_type": "code",
    "id": "ExZPR9FLbsh9"
   },
   "outputs": [],
   "source": [
    "X_train, X_test, y_train, y_test = model_selection.train_test_split(X, y, test_size=0.25)"
   ]
  },
  {
   "cell_type": "markdown",
   "metadata": {
    "colab_type": "text",
    "id": "7xJCdggZbsh_"
   },
   "source": [
    "Напишем функцию, реализующую предсказание в градиентном бустинге."
   ]
  },
  {
   "cell_type": "code",
   "execution_count": 5,
   "metadata": {
    "colab": {},
    "colab_type": "code",
    "id": "wU_Rkc63bsiA"
   },
   "outputs": [],
   "source": [
    "def gb_predict(X, trees_list, coef_list, eta):\n",
    "    # Реализуемый алгоритм градиентного бустинга будет инициализироваться нулевыми значениями,\n",
    "    # поэтому все деревья из списка trees_list уже являются дополнительными и при предсказании прибавляются с шагом eta\n",
    "    return np.array([sum([eta* coef * alg.predict([x])[0] for alg, coef in zip(trees_list, coef_list)]) for x in X])"
   ]
  },
  {
   "cell_type": "markdown",
   "metadata": {
    "colab_type": "text",
    "id": "6gZvsyfSbsiD"
   },
   "source": [
    "В качестве функционала ошибки будем использовать среднеквадратичную ошибку. Реализуем соответствующую функцию."
   ]
  },
  {
   "cell_type": "code",
   "execution_count": 6,
   "metadata": {
    "colab": {},
    "colab_type": "code",
    "id": "0xbjFIEKbsiE"
   },
   "outputs": [],
   "source": [
    "def mean_squared_error(y_real, prediction):\n",
    "    return (sum((y_real - prediction)**2)) / len(y_real)"
   ]
  },
  {
   "cell_type": "markdown",
   "metadata": {
    "colab_type": "text",
    "id": "Qlr3KD6zbsiH"
   },
   "source": [
    "Используем $L_{2}$ loss $L(y, z) = (y-z)^{2},$ ее производная по $z$ примет вид $L'(y, z) = 2(z-y)$. Реализуем ее также в виде функции (коэффициент 2 можно отбросить)."
   ]
  },
  {
   "cell_type": "code",
   "execution_count": 7,
   "metadata": {
    "colab": {},
    "colab_type": "code",
    "id": "WRaZEd3ebsiI"
   },
   "outputs": [],
   "source": [
    "def bias(y, z):\n",
    "    return (y - z)"
   ]
  },
  {
   "cell_type": "markdown",
   "metadata": {
    "colab_type": "text",
    "id": "ut-7dBgVbsiK"
   },
   "source": [
    "Реализуем функцию обучения градиентного бустинга."
   ]
  },
  {
   "cell_type": "code",
   "execution_count": 8,
   "metadata": {
    "colab": {},
    "colab_type": "code",
    "id": "HoIdAoPYbsiL"
   },
   "outputs": [],
   "source": [
    "def gb_fit(n_trees, max_depth, X_train, X_test, y_train, y_test, coefs, eta):\n",
    "    \n",
    "    # Деревья будем записывать в список\n",
    "    trees = []\n",
    "    \n",
    "    # Будем записывать ошибки на обучающей и тестовой выборке на каждой итерации в список\n",
    "    train_errors = []\n",
    "    test_errors = []\n",
    "    \n",
    "    for i in range(n_trees):\n",
    "        tree = DecisionTreeRegressor(max_depth=max_depth, random_state=42)\n",
    "\n",
    "        # инициализируем бустинг начальным алгоритмом, возвращающим ноль, \n",
    "        # поэтому первый алгоритм просто обучаем на выборке и добавляем в список\n",
    "        if len(trees) == 0:\n",
    "            # обучаем первое дерево на обучающей выборке\n",
    "            tree.fit(X_train, y_train)\n",
    "            \n",
    "            train_errors.append(mean_squared_error(y_train, gb_predict(X_train, trees, coefs, eta)))\n",
    "            test_errors.append(mean_squared_error(y_test, gb_predict(X_test, trees, coefs, eta)))\n",
    "        else:\n",
    "            # Получим ответы на текущей композиции\n",
    "            target = gb_predict(X_train, trees, coefs, eta)\n",
    "            \n",
    "            # алгоритмы начиная со второго обучаем на сдвиг\n",
    "            tree.fit(X_train, bias(y_train, target))\n",
    "            \n",
    "            train_errors.append(mean_squared_error(y_train, gb_predict(X_train, trees, coefs, eta)))\n",
    "            test_errors.append(mean_squared_error(y_test, gb_predict(X_test, trees, coefs, eta)))\n",
    "\n",
    "        trees.append(tree)\n",
    "        \n",
    "    return trees, train_errors, test_errors"
   ]
  },
  {
   "cell_type": "code",
   "execution_count": 9,
   "metadata": {
    "colab": {},
    "colab_type": "code",
    "id": "GDMFn3R-bsiR"
   },
   "outputs": [],
   "source": [
    "def evaluate_alg(X_train, X_test, y_train, y_test, trees, coefs, eta):\n",
    "    train_prediction = gb_predict(X_train, trees, coefs, eta)\n",
    "\n",
    "#     print(f'Ошибка алгоритма из {n_trees} деревьев глубиной {max_depth} \\\n",
    "#     с шагом {eta} на тренировочной выборке: {mean_squared_error(y_train, train_prediction)}')\n",
    "\n",
    "    test_prediction = gb_predict(X_test, trees, coefs, eta)\n",
    "\n",
    "#     print(f'Ошибка алгоритма из {n_trees} деревьев глубиной {max_depth} \\\n",
    "#     с шагом {eta} на тестовой выборке: {mean_squared_error(y_test, test_prediction)}')\n",
    "    \n",
    "    return(mean_squared_error(y_train, train_prediction), mean_squared_error(y_test, test_prediction))"
   ]
  },
  {
   "cell_type": "code",
   "execution_count": 10,
   "metadata": {
    "colab": {},
    "colab_type": "code",
    "id": "QXrSdSgjbsic"
   },
   "outputs": [],
   "source": [
    "import matplotlib.pyplot as plt\n",
    "import matplotlib\n",
    "%matplotlib inline"
   ]
  },
  {
   "cell_type": "code",
   "execution_count": 11,
   "metadata": {
    "colab": {},
    "colab_type": "code",
    "id": "gjDdKkgObsif"
   },
   "outputs": [],
   "source": [
    "def get_error_plot(n_trees, train_err, test_err):\n",
    "    plt.xlabel('Iteration number')\n",
    "    plt.ylabel('MSE')\n",
    "    plt.xlim(0, n_trees)\n",
    "    plt.plot(list(range(n_trees)), train_err, label='train error')\n",
    "    plt.plot(list(range(n_trees)), test_err, label='test error')\n",
    "    plt.legend(loc='upper right')\n",
    "    plt.show()"
   ]
  },
  {
   "cell_type": "markdown",
   "metadata": {},
   "source": [
    "### Домашняя работа:"
   ]
  },
  {
   "cell_type": "code",
   "execution_count": 12,
   "metadata": {},
   "outputs": [],
   "source": [
    "def process(max_depth, n_trees):\n",
    "    coefs = [1] * n_trees\n",
    "    trees, train_errors, test_errors = gb_fit(n_trees, max_depth, X_train, X_test, y_train, y_test, coefs, eta)\n",
    "    train_error, test_error = evaluate_alg(X_train, X_test, y_train, y_test, trees, coefs, eta)\n",
    "    return train_error, test_error"
   ]
  },
  {
   "cell_type": "markdown",
   "metadata": {},
   "source": [
    "### Зависимость от кол-ва деревьев:"
   ]
  },
  {
   "cell_type": "code",
   "execution_count": 13,
   "metadata": {},
   "outputs": [
    {
     "name": "stdout",
     "output_type": "stream",
     "text": [
      "n_trees 1 processed\n",
      "n_trees 2 processed\n",
      "n_trees 3 processed\n",
      "n_trees 4 processed\n",
      "n_trees 5 processed\n",
      "n_trees 6 processed\n",
      "n_trees 7 processed\n",
      "n_trees 8 processed\n",
      "n_trees 9 processed\n",
      "n_trees 10 processed\n",
      "n_trees 11 processed\n",
      "n_trees 12 processed\n",
      "n_trees 13 processed\n",
      "n_trees 14 processed\n",
      "n_trees 15 processed\n",
      "n_trees 16 processed\n",
      "n_trees 17 processed\n",
      "n_trees 18 processed\n",
      "n_trees 19 processed\n",
      "n_trees 20 processed\n",
      "n_trees 21 processed\n",
      "n_trees 22 processed\n",
      "n_trees 23 processed\n",
      "n_trees 24 processed\n"
     ]
    },
    {
     "data": {
      "image/png": "[encoded data removed]",
      "text/plain": [
       "<Figure size 432x288 with 1 Axes>"
      ]
     },
     "metadata": {
      "needs_background": "light"
     },
     "output_type": "display_data"
    }
   ],
   "source": [
    "eta = 0.1\n",
    "max_depth = 5\n",
    "\n",
    "n_trees_max = 25\n",
    "\n",
    "errors = []\n",
    "for n_trees in range(1, n_trees_max):\n",
    "    train_errors, test_errors = process(max_depth=max_depth, n_trees=n_trees)\n",
    "    errors.append((n_trees, train_errors, test_errors))\n",
    "    print(f'n_trees {n_trees} processed')\n",
    "\n",
    "plt.plot([val[0] for val in errors], [val[1] for val in errors], label='train')\n",
    "plt.plot([val[0] for val in errors], [val[2] for val in errors], label='test')\n",
    "plt.legend(loc='upper right')\n",
    "plt.show()\n"
   ]
  },
  {
   "cell_type": "markdown",
   "metadata": {},
   "source": [
    "### Зависимость от максимальной глубины дерева:"
   ]
  },
  {
   "cell_type": "code",
   "execution_count": 16,
   "metadata": {},
   "outputs": [
    {
     "name": "stdout",
     "output_type": "stream",
     "text": [
      "max_depth 1 processed\n",
      "max_depth 2 processed\n",
      "max_depth 3 processed\n",
      "max_depth 4 processed\n",
      "max_depth 5 processed\n",
      "max_depth 6 processed\n",
      "max_depth 7 processed\n",
      "max_depth 8 processed\n",
      "max_depth 9 processed\n",
      "max_depth 10 processed\n",
      "max_depth 11 processed\n",
      "max_depth 12 processed\n",
      "max_depth 13 processed\n",
      "max_depth 14 processed\n",
      "max_depth 15 processed\n",
      "max_depth 16 processed\n",
      "max_depth 17 processed\n",
      "max_depth 18 processed\n",
      "max_depth 19 processed\n",
      "max_depth 20 processed\n",
      "max_depth 21 processed\n",
      "max_depth 22 processed\n",
      "max_depth 23 processed\n",
      "max_depth 24 processed\n"
     ]
    },
    {
     "data": {
      "image/png": "[encoded data removed]",
      "text/plain": [
       "<Figure size 432x288 with 1 Axes>"
      ]
     },
     "metadata": {
      "needs_background": "light"
     },
     "output_type": "display_data"
    }
   ],
   "source": [
    "eta = 0.1\n",
    "n_trees = 10\n",
    "\n",
    "max_depth_max = 25\n",
    "\n",
    "errors = []\n",
    "for max_depth in range(1, max_depth_max):\n",
    "    train_errors, test_errors = process(max_depth=max_depth, n_trees=n_trees)\n",
    "    errors.append((max_depth, train_errors, test_errors))\n",
    "    print(f'max_depth {max_depth} processed')\n",
    "\n",
    "plt.plot([val[0] for val in errors], [val[1] for val in errors], label='train')\n",
    "plt.plot([val[0] for val in errors], [val[2] for val in errors], label='test')\n",
    "plt.legend(loc='upper right')\n",
    "plt.show()"
   ]
  },
  {
   "cell_type": "markdown",
   "metadata": {},
   "source": [
    "### Выводы по зависимости ошибки от кол-ва деревьев в ансамбле и предельной глубины дерева:"
   ]
  },
  {
   "cell_type": "markdown",
   "metadata": {},
   "source": [
    "##### Зависимость ошибки от кол-ва деревьев в ансамбле:"
   ]
  },
  {
   "cell_type": "markdown",
   "metadata": {},
   "source": [
    "С ростом числа деревьев в модели величина ошибки монотонно убывает, как на обучающей так и на отложенной выборке. При этом с ростом числа деревьев увеличивается разница между величиной ошибки на трейне и на тесте. Таким образом, данный гиперпараметр является хорошим рычагом для увеличения качества модели с предсказуемым поведением и защитой от переобучения. Влияние на ошибку с ростом числа деревьев все уменьшается, соответственно, в какой-то момент наступает точка после которой условные предельные затраты (например, доп. время на обучение) уже не окупают предельный эффект на величину ошибки, либо же при дальнейшем приближении графика к асимптоте график вообще перестанет быть монотонным и начнет все больше шевелиться в духе случайного блуждания."
   ]
  },
  {
   "cell_type": "markdown",
   "metadata": {},
   "source": [
    "##### Зависимость ошибки от предельной глубины отдельного обучающего дерева в ансамбле:"
   ]
  },
  {
   "cell_type": "markdown",
   "metadata": {},
   "source": [
    "Максимальная глубина дерева положительно влияет на качество прогнозов на обучающей выборке, на тестовой выборке поведение функции ошибки от предельной глубины носит следующий характер: до некоторой точки экстремума (с гиперпараметрами из исследования это точка max_depth=7) ошибка монотонно убывает, далее уже не монотонно, но с заметным трендом возрастает, дальше идет что-то похожее на случайное блуждание вокруг значения примерно 7250. Т.о., можно сделать вывод что до некоторого значения гиперпараметра качество прогнозов растут, обобщающая способность модели не страдает, закономерности из данных извлекаются все глубже. После некоторого значения данного гипер-параметра модель сваливается в переобучение, на трейне ошибка практически выходит в горизонтальную линию - полное выучивание данных, на тесте же после такой точки \"сваливания\" все более переобученная модель начинает давать все худшие прогнозы, а при выходе на вид \"случайное блуждание\" модель, видимо, начинает предсказывать на уровне рандома.\n",
    "\n",
    "Предположительно, порог глубины деревьев, после которого наблюдается переобучени будет в разных случаях разным и, вероятно, будет зависеть от: а. размера обучающей выборки и б. кол-ва признаков."
   ]
  },
  {
   "cell_type": "markdown",
   "metadata": {},
   "source": [
    "##### Прочие выводы и комментарии:"
   ]
  },
  {
   "cell_type": "markdown",
   "metadata": {},
   "source": [
    "Елси честно, как-то подозрительно монотонно растет качество предсказаний в зависимости от кол-ва деревьев, особенно на тесте."
   ]
  }
 ],
 "metadata": {
  "colab": {
   "collapsed_sections": [
    "Rg5ilDbTbshs",
    "Z2tMUhhXbsjK",
    "gKn5SRC2bsjr",
    "qBVboqCmbsjs"
   ],
   "name": "Lesson_6(edited).ipynb",
   "provenance": []
  },
  "kernelspec": {
   "display_name": "Python 3",
   "language": "python",
   "name": "python3"
  },
  "language_info": {
   "codemirror_mode": {
    "name": "ipython",
    "version": 3
   },
   "file_extension": ".py",
   "mimetype": "text/x-python",
   "name": "python",
   "nbconvert_exporter": "python",
   "pygments_lexer": "ipython3",
   "version": "3.7.3"
  }
 },
 "nbformat": 4,
 "nbformat_minor": 1
}
